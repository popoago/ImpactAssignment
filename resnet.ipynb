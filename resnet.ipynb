{
  "nbformat": 4,
  "nbformat_minor": 0,
  "metadata": {
    "colab": {
      "name": "resnet.ipynb",
      "version": "0.3.2",
      "provenance": [],
      "collapsed_sections": []
    },
    "kernelspec": {
      "name": "python3",
      "display_name": "Python 3"
    }
  },
  "cells": [
    {
      "cell_type": "code",
      "metadata": {
        "id": "IUF19gpS5V80",
        "colab_type": "code",
        "colab": {}
      },
      "source": [
        "import pandas as pd\n",
        "import numpy as np\n",
        "import matplotlib.pyplot as plt\n",
        "import torch\n",
        "import torch.nn as nn\n",
        "import torch.nn.functional as F\n",
        "import torch.optim as optim\n",
        "from torch.optim import lr_scheduler\n",
        "import os\n",
        "import sys\n",
        "from torch.utils.data import Dataset, DataLoader\n",
        "from torchvision import transforms, utils\n",
        "import warnings\n",
        "warnings.filterwarnings(\"ignore\")\n",
        "import torchvision\n",
        "import torchvision.models as models\n",
        "import time\n",
        "import copy\n",
        "from torch.nn import init\n",
        "import math"
      ],
      "execution_count": 0,
      "outputs": []
    },
    {
      "cell_type": "code",
      "metadata": {
        "id": "Hq-24X3m5mTr",
        "colab_type": "code",
        "colab": {}
      },
      "source": [
        "data_path = \"tiny-imagenet-200\"\n",
        "#normalise the data by its mean and standard deviation\n",
        "data_transforms = {\n",
        "    'train': transforms.ToTensor(),\n",
        "    'val': transforms.ToTensor()\n",
        "}\n",
        "\n",
        "\n",
        "data_transform = transforms.ToTensor()\n",
        "image_datasets = {x: torchvision.datasets.ImageFolder(os.path.join(data_path, x),\n",
        "                                          data_transforms[x])\n",
        "                  for x in ['train', 'val']}\n",
        "dataloaders = {x: torch.utils.data.DataLoader(image_datasets[x], batch_size=4,\n",
        "                                             shuffle=True, num_workers=4)\n",
        "              for x in ['train', 'val']}\n",
        "dataset_sizes = {x: len(image_datasets[x]) for x in ['train', 'val']}"
      ],
      "execution_count": 0,
      "outputs": []
    },
    {
      "cell_type": "code",
      "metadata": {
        "id": "XncWph-yyBIx",
        "colab_type": "code",
        "colab": {}
      },
      "source": [
        "class BasicBlock(nn.Module):\n",
        "  def __init__(self,in_channels,out_channels,drop,stride=1):\n",
        "    super().__init__()\n",
        "    self.bn1 = nn.BatchNorm2d(in_channels)\n",
        "    self.conv1 = nn.Conv2d(in_channels=in_channels,out_channels=out_channels,\n",
        "                           kernel_size=3,stride=stride,padding=1,bias=False)\n",
        "    #dropout automatically shuts down during eval mode\n",
        "    self.drop = nn.Dropout(drop,inplace=True)\n",
        "    self.bn2 = nn.BatchNorm2d(out_channels)\n",
        "    self.conv2 = nn.Conv2d(in_channels=out_channels,out_channels=out_channels,\n",
        "                           kernel_size=3,stride=1,padding=1,bias=False)\n",
        "    self.relu = nn.ReLU(inplace=True)\n",
        "    \n",
        "    if in_channels!=out_channels or stride!=1:\n",
        "      self.identity = nn.Sequential(nn.Conv2d(in_channels=in_channels,out_channels=out_channels,\n",
        "                                             kernel_size=1,stride=stride,bias=False))\n",
        "    else:\n",
        "      self.identity = lambda x: x      \n",
        "    \n",
        "    def forward(self,x):\n",
        "      out = self.conv1(self.relu(self.bn1(x)))\n",
        "      out = self.drop(out)\n",
        "      out = self.conv2(self.relu(self.bn2(out)))\n",
        "      i = self.identity(x)\n",
        "      out += i\n",
        "      return out\n",
        "      "
      ],
      "execution_count": 0,
      "outputs": []
    },
    {
      "cell_type": "code",
      "metadata": {
        "id": "5eYcwrJ9A0P4",
        "colab_type": "code",
        "colab": {}
      },
      "source": [
        "nn.Conv2d?"
      ],
      "execution_count": 0,
      "outputs": []
    },
    {
      "cell_type": "code",
      "metadata": {
        "id": "UupEcLc1Upvi",
        "colab_type": "code",
        "colab": {}
      },
      "source": [
        "class Resnet(nn.Module):\n",
        "  '''architecture based on pre-activated resnet20'''\n",
        "  \n",
        "  def __init__(self,block,num_classes=200):\n",
        "    super(Resnet, self).__init__()\n",
        "    #changed stride 2 for tiny imagenet\n",
        "    self.conv1 = nn.Conv2d(in_channels=3,out_channels=16,kernel_size=3,stride=2,padding=1,bias=False)\n",
        "    self.in_channels = 16\n",
        "    self.stage1 = self.create_stage(block,16,num_blocks=3,stride=1)\n",
        "    self.stage2 = self.create_stage(block,32,num_blocks=3,stride=2)\n",
        "    self.stage3 = self.create_stage(block,64,num_blocks=3,stride=2)\n",
        "    self.lastact = nn.Sequential(nn.BatchNorm2d(64),nn.ReLU(inplace=True))\n",
        "    #replaced avg pool with adaptive pool\n",
        "    self.avgPool = nn.AdaptiveAvgPool2d(1)\n",
        "    self.classifier = nn.Linear(64,num_classes)\n",
        "    \n",
        "    for m in self.modules():\n",
        "      if isinstance(m, nn.Conv2d):\n",
        "        n = m.kernel_size[0] * m.kernel_size[1] * m.out_channels\n",
        "        m.weight.data.normal_(0, math.sqrt(2. / n))\n",
        "        #m.bias.data.zero_()\n",
        "      elif isinstance(m, nn.BatchNorm2d):\n",
        "        m.weight.data.fill_(1)\n",
        "        m.bias.data.zero_()\n",
        "      elif isinstance(m, nn.Linear):\n",
        "        init.kaiming_normal(m.weight)\n",
        "        m.bias.data.zero_()\n",
        "    \n",
        "  def create_stage(self,block,out_channels,num_blocks,stride=1):\n",
        "    layers = []\n",
        "    layers.append(block(self.in_channels,out_channels,0.3,stride))\n",
        "    self.in_channels=out_channels\n",
        "    for i in range(1,num_blocks):\n",
        "      layers.append(block(self.in_channels,out_channels,0.3,1))\n",
        "      \n",
        "    return nn.Sequential(*layers)\n",
        "  \n",
        "  def forward(self,x):\n",
        "    out = self.conv1(x)\n",
        "    out = self.stage1(out)\n",
        "    out = self.stage2(out)\n",
        "    out = self.stage3(out)\n",
        "    out = self.lastact(out)\n",
        "    out = self.avgPool(out)\n",
        "    out = out.view(out.size(0), -1)\n",
        "    return self.classifier(out) "
      ],
      "execution_count": 0,
      "outputs": []
    },
    {
      "cell_type": "code",
      "metadata": {
        "id": "e5eJxoALdHZB",
        "colab_type": "code",
        "colab": {
          "base_uri": "https://localhost:8080/",
          "height": 34
        },
        "outputId": "802a5986-51f4-4b32-b0b6-4c1c11b446a1"
      },
      "source": [
        "k = nn.Conv2d(3, 16, 3, stride=2,padding=1)\n",
        "i = torch.randn([1,3,64,64])\n",
        "k(i).size()"
      ],
      "execution_count": 19,
      "outputs": [
        {
          "output_type": "execute_result",
          "data": {
            "text/plain": [
              "torch.Size([1, 16, 32, 32])"
            ]
          },
          "metadata": {
            "tags": []
          },
          "execution_count": 19
        }
      ]
    },
    {
      "cell_type": "code",
      "metadata": {
        "id": "InJeCY_odS-g",
        "colab_type": "code",
        "colab": {
          "base_uri": "https://localhost:8080/",
          "height": 204
        },
        "outputId": "a701fa7a-f203-4ea6-ac5d-cfe9a7478c39"
      },
      "source": [
        "BasicBlock(16,16,0.3,2)"
      ],
      "execution_count": 30,
      "outputs": [
        {
          "output_type": "execute_result",
          "data": {
            "text/plain": [
              "BasicBlock(\n",
              "  (bn1): BatchNorm2d(16, eps=1e-05, momentum=0.1, affine=True, track_running_stats=True)\n",
              "  (conv1): Conv2d(16, 16, kernel_size=(3, 3), stride=(2, 2), padding=(1, 1), bias=False)\n",
              "  (drop): Dropout(p=0.3, inplace)\n",
              "  (bn2): BatchNorm2d(16, eps=1e-05, momentum=0.1, affine=True, track_running_stats=True)\n",
              "  (conv2): Conv2d(16, 16, kernel_size=(3, 3), stride=(1, 1), padding=(1, 1), bias=False)\n",
              "  (relu): ReLU(inplace)\n",
              "  (residual): Sequential(\n",
              "    (0): Conv2d(16, 16, kernel_size=(1, 1), stride=(2, 2), bias=False)\n",
              "  )\n",
              ")"
            ]
          },
          "metadata": {
            "tags": []
          },
          "execution_count": 30
        }
      ]
    },
    {
      "cell_type": "code",
      "metadata": {
        "id": "C7AnelsGeq-L",
        "colab_type": "code",
        "colab": {
          "base_uri": "https://localhost:8080/",
          "height": 1598
        },
        "outputId": "3949fc66-cdaa-4810-ac14-5dd4c10acb9f"
      },
      "source": [
        "Resnet(BasicBlock,200)"
      ],
      "execution_count": 43,
      "outputs": [
        {
          "output_type": "execute_result",
          "data": {
            "text/plain": [
              "Resnet(\n",
              "  (conv1): Conv2d(3, 16, kernel_size=(3, 3), stride=(2, 2), padding=(1, 1), bias=False)\n",
              "  (stage1): Sequential(\n",
              "    (0): BasicBlock(\n",
              "      (bn1): BatchNorm2d(16, eps=1e-05, momentum=0.1, affine=True, track_running_stats=True)\n",
              "      (conv1): Conv2d(16, 16, kernel_size=(3, 3), stride=(1, 1), padding=(1, 1), bias=False)\n",
              "      (drop): Dropout(p=0.3, inplace)\n",
              "      (bn2): BatchNorm2d(16, eps=1e-05, momentum=0.1, affine=True, track_running_stats=True)\n",
              "      (conv2): Conv2d(16, 16, kernel_size=(3, 3), stride=(1, 1), padding=(1, 1), bias=False)\n",
              "      (relu): ReLU(inplace)\n",
              "    )\n",
              "    (1): BasicBlock(\n",
              "      (bn1): BatchNorm2d(16, eps=1e-05, momentum=0.1, affine=True, track_running_stats=True)\n",
              "      (conv1): Conv2d(16, 16, kernel_size=(3, 3), stride=(1, 1), padding=(1, 1), bias=False)\n",
              "      (drop): Dropout(p=0.3, inplace)\n",
              "      (bn2): BatchNorm2d(16, eps=1e-05, momentum=0.1, affine=True, track_running_stats=True)\n",
              "      (conv2): Conv2d(16, 16, kernel_size=(3, 3), stride=(1, 1), padding=(1, 1), bias=False)\n",
              "      (relu): ReLU(inplace)\n",
              "    )\n",
              "    (2): BasicBlock(\n",
              "      (bn1): BatchNorm2d(16, eps=1e-05, momentum=0.1, affine=True, track_running_stats=True)\n",
              "      (conv1): Conv2d(16, 16, kernel_size=(3, 3), stride=(1, 1), padding=(1, 1), bias=False)\n",
              "      (drop): Dropout(p=0.3, inplace)\n",
              "      (bn2): BatchNorm2d(16, eps=1e-05, momentum=0.1, affine=True, track_running_stats=True)\n",
              "      (conv2): Conv2d(16, 16, kernel_size=(3, 3), stride=(1, 1), padding=(1, 1), bias=False)\n",
              "      (relu): ReLU(inplace)\n",
              "    )\n",
              "  )\n",
              "  (stage2): Sequential(\n",
              "    (0): BasicBlock(\n",
              "      (bn1): BatchNorm2d(16, eps=1e-05, momentum=0.1, affine=True, track_running_stats=True)\n",
              "      (conv1): Conv2d(16, 32, kernel_size=(3, 3), stride=(2, 2), padding=(1, 1), bias=False)\n",
              "      (drop): Dropout(p=0.3, inplace)\n",
              "      (bn2): BatchNorm2d(32, eps=1e-05, momentum=0.1, affine=True, track_running_stats=True)\n",
              "      (conv2): Conv2d(32, 32, kernel_size=(3, 3), stride=(1, 1), padding=(1, 1), bias=False)\n",
              "      (relu): ReLU(inplace)\n",
              "      (residual): Sequential(\n",
              "        (0): Conv2d(16, 32, kernel_size=(1, 1), stride=(2, 2), bias=False)\n",
              "      )\n",
              "    )\n",
              "    (1): BasicBlock(\n",
              "      (bn1): BatchNorm2d(32, eps=1e-05, momentum=0.1, affine=True, track_running_stats=True)\n",
              "      (conv1): Conv2d(32, 32, kernel_size=(3, 3), stride=(1, 1), padding=(1, 1), bias=False)\n",
              "      (drop): Dropout(p=0.3, inplace)\n",
              "      (bn2): BatchNorm2d(32, eps=1e-05, momentum=0.1, affine=True, track_running_stats=True)\n",
              "      (conv2): Conv2d(32, 32, kernel_size=(3, 3), stride=(1, 1), padding=(1, 1), bias=False)\n",
              "      (relu): ReLU(inplace)\n",
              "    )\n",
              "    (2): BasicBlock(\n",
              "      (bn1): BatchNorm2d(32, eps=1e-05, momentum=0.1, affine=True, track_running_stats=True)\n",
              "      (conv1): Conv2d(32, 32, kernel_size=(3, 3), stride=(1, 1), padding=(1, 1), bias=False)\n",
              "      (drop): Dropout(p=0.3, inplace)\n",
              "      (bn2): BatchNorm2d(32, eps=1e-05, momentum=0.1, affine=True, track_running_stats=True)\n",
              "      (conv2): Conv2d(32, 32, kernel_size=(3, 3), stride=(1, 1), padding=(1, 1), bias=False)\n",
              "      (relu): ReLU(inplace)\n",
              "    )\n",
              "  )\n",
              "  (stage3): Sequential(\n",
              "    (0): BasicBlock(\n",
              "      (bn1): BatchNorm2d(32, eps=1e-05, momentum=0.1, affine=True, track_running_stats=True)\n",
              "      (conv1): Conv2d(32, 64, kernel_size=(3, 3), stride=(2, 2), padding=(1, 1), bias=False)\n",
              "      (drop): Dropout(p=0.3, inplace)\n",
              "      (bn2): BatchNorm2d(64, eps=1e-05, momentum=0.1, affine=True, track_running_stats=True)\n",
              "      (conv2): Conv2d(64, 64, kernel_size=(3, 3), stride=(1, 1), padding=(1, 1), bias=False)\n",
              "      (relu): ReLU(inplace)\n",
              "      (residual): Sequential(\n",
              "        (0): Conv2d(32, 64, kernel_size=(1, 1), stride=(2, 2), bias=False)\n",
              "      )\n",
              "    )\n",
              "    (1): BasicBlock(\n",
              "      (bn1): BatchNorm2d(64, eps=1e-05, momentum=0.1, affine=True, track_running_stats=True)\n",
              "      (conv1): Conv2d(64, 64, kernel_size=(3, 3), stride=(1, 1), padding=(1, 1), bias=False)\n",
              "      (drop): Dropout(p=0.3, inplace)\n",
              "      (bn2): BatchNorm2d(64, eps=1e-05, momentum=0.1, affine=True, track_running_stats=True)\n",
              "      (conv2): Conv2d(64, 64, kernel_size=(3, 3), stride=(1, 1), padding=(1, 1), bias=False)\n",
              "      (relu): ReLU(inplace)\n",
              "    )\n",
              "    (2): BasicBlock(\n",
              "      (bn1): BatchNorm2d(64, eps=1e-05, momentum=0.1, affine=True, track_running_stats=True)\n",
              "      (conv1): Conv2d(64, 64, kernel_size=(3, 3), stride=(1, 1), padding=(1, 1), bias=False)\n",
              "      (drop): Dropout(p=0.3, inplace)\n",
              "      (bn2): BatchNorm2d(64, eps=1e-05, momentum=0.1, affine=True, track_running_stats=True)\n",
              "      (conv2): Conv2d(64, 64, kernel_size=(3, 3), stride=(1, 1), padding=(1, 1), bias=False)\n",
              "      (relu): ReLU(inplace)\n",
              "    )\n",
              "  )\n",
              "  (lastact): Sequential(\n",
              "    (0): BatchNorm2d(64, eps=1e-05, momentum=0.1, affine=True, track_running_stats=True)\n",
              "    (1): ReLU(inplace)\n",
              "  )\n",
              "  (avgPool): AdaptiveAvgPool2d(output_size=1)\n",
              "  (classifier): Linear(in_features=64, out_features=200, bias=True)\n",
              ")"
            ]
          },
          "metadata": {
            "tags": []
          },
          "execution_count": 43
        }
      ]
    },
    {
      "cell_type": "code",
      "metadata": {
        "id": "h25n6tIQn9RU",
        "colab_type": "code",
        "colab": {}
      },
      "source": [
        ""
      ],
      "execution_count": 0,
      "outputs": []
    }
  ]
}